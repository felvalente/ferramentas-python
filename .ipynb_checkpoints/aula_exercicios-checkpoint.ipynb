{
 "cells": [
  {
   "cell_type": "markdown",
   "id": "6c19aa38",
   "metadata": {},
   "source": [
    "## Monte um algoritmo que adicione uma chave em um dicionário."
   ]
  },
  {
   "cell_type": "code",
   "execution_count": 2,
   "id": "cb9c8c25",
   "metadata": {},
   "outputs": [
    {
     "name": "stdout",
     "output_type": "stream",
     "text": [
      "\n",
      "Exemplo de entrada\n",
      "dc = {0: 10, 1: 20}\n",
      "\n",
      "Exemplo de saida\n",
      "dc = {0: 10, 1: 20, 3: 30}\n",
      "\n"
     ]
    }
   ],
   "source": [
    "print(\"\"\"\n",
    "Exemplo de entrada\n",
    "dc = {0: 10, 1: 20}\n",
    "\n",
    "Exemplo de saida\n",
    "dc = {0: 10, 1: 20, 3: 30}\n",
    "\"\"\")"
   ]
  },
  {
   "cell_type": "code",
   "execution_count": 27,
   "id": "767fe386",
   "metadata": {},
   "outputs": [],
   "source": [
    "dc = {'a': 500, 'b': 0.05, 'c': 254.76}"
   ]
  },
  {
   "cell_type": "code",
   "execution_count": 38,
   "id": "df44fa80",
   "metadata": {},
   "outputs": [],
   "source": [
    "x = list(dc.values())\n",
    "x.sort(reverse=False)\n",
    "minimo = x[0]"
   ]
  },
  {
   "cell_type": "code",
   "execution_count": 39,
   "id": "7ec7a0c7",
   "metadata": {},
   "outputs": [],
   "source": [
    "for chave in dc.keys():\n",
    "    if dc[chave] == minimo:\n",
    "        chave_do_minimo = chave"
   ]
  },
  {
   "cell_type": "code",
   "execution_count": 40,
   "id": "8aa2273d",
   "metadata": {},
   "outputs": [
    {
     "data": {
      "text/plain": [
       "'b'"
      ]
     },
     "execution_count": 40,
     "metadata": {},
     "output_type": "execute_result"
    }
   ],
   "source": [
    "chave_do_minimo"
   ]
  },
  {
   "cell_type": "code",
   "execution_count": 50,
   "id": "2abe971f",
   "metadata": {},
   "outputs": [],
   "source": [
    "if 'nasser' not in dc:\n",
    "    dc['nasser'] = 1"
   ]
  },
  {
   "cell_type": "code",
   "execution_count": 52,
   "id": "572a1718",
   "metadata": {},
   "outputs": [],
   "source": [
    "str_grandona = 'Lorem ipsum dolor sit amet, consectetur adipiscing elit. Vestibulum pretium viverra elit eget aliquam. Sed ac porttitor tortor, a vestibulum odio. Nullam feugiat posuere nulla ac rhoncus. Proin eleifend nisl a ligula porttitor imperdiet. Proin placerat interdum ligula rutrum facilisis. Fusce ullamcorper, ipsum vel aliquet luctus, felis purus dictum urna, in eleifend enim tortor vel libero. Ut efficitur luctus velit. In ut justo eget leo posuere fringilla vitae mattis augue. Nunc sit amet molestie velit, sit amet convallis nibh. Mauris pulvinar posuere dui nec ultrices. Sed eu magna non risus tristique blandit. Etiam id purus tellus. Pellentesque habitant morbi tristique senectus et netus et malesuada fames ac turpis egestas. Aliquam pulvinar purus neque. Mauris eget volutpat dui.'"
   ]
  },
  {
   "cell_type": "code",
   "execution_count": 56,
   "id": "399416ac",
   "metadata": {},
   "outputs": [],
   "source": [
    "x = str_grandona.split()"
   ]
  },
  {
   "cell_type": "code",
   "execution_count": 82,
   "id": "d21e5a81",
   "metadata": {},
   "outputs": [],
   "source": [
    "dc_palavras = {}\n",
    "\n",
    "for palavra in x:\n",
    "    palavra = palavra.strip(',').strip('').strip('.').lower()\n",
    "    \n",
    "    if palavra in dc_palavras:\n",
    "        dc_palavras[palavra] += 1\n",
    "    else:\n",
    "        dc_palavras[palavra] = 1"
   ]
  },
  {
   "cell_type": "code",
   "execution_count": 83,
   "id": "08c415b9",
   "metadata": {},
   "outputs": [
    {
     "data": {
      "text/plain": [
       "{'lorem': 1,\n",
       " 'ipsum': 2,\n",
       " 'dolor': 1,\n",
       " 'sit': 3,\n",
       " 'amet': 3,\n",
       " 'consectetur': 1,\n",
       " 'adipiscing': 1,\n",
       " 'elit': 2,\n",
       " 'vestibulum': 2,\n",
       " 'pretium': 1,\n",
       " 'viverra': 1,\n",
       " 'eget': 3,\n",
       " 'aliquam': 2,\n",
       " 'sed': 2,\n",
       " 'ac': 3,\n",
       " 'porttitor': 2,\n",
       " 'tortor': 2,\n",
       " 'a': 2,\n",
       " 'odio': 1,\n",
       " 'nullam': 1,\n",
       " 'feugiat': 1,\n",
       " 'posuere': 3,\n",
       " 'nulla': 1,\n",
       " 'rhoncus': 1,\n",
       " 'proin': 2,\n",
       " 'eleifend': 2,\n",
       " 'nisl': 1,\n",
       " 'ligula': 2,\n",
       " 'imperdiet': 1,\n",
       " 'placerat': 1,\n",
       " 'interdum': 1,\n",
       " 'rutrum': 1,\n",
       " 'facilisis': 1,\n",
       " 'fusce': 1,\n",
       " 'ullamcorper': 1,\n",
       " 'vel': 2,\n",
       " 'aliquet': 1,\n",
       " 'luctus': 2,\n",
       " 'felis': 1,\n",
       " 'purus': 3,\n",
       " 'dictum': 1,\n",
       " 'urna': 1,\n",
       " 'in': 2,\n",
       " 'enim': 1,\n",
       " 'libero': 1,\n",
       " 'ut': 2,\n",
       " 'efficitur': 1,\n",
       " 'velit': 2,\n",
       " 'justo': 1,\n",
       " 'leo': 1,\n",
       " 'fringilla': 1,\n",
       " 'vitae': 1,\n",
       " 'mattis': 1,\n",
       " 'augue': 1,\n",
       " 'nunc': 1,\n",
       " 'molestie': 1,\n",
       " 'convallis': 1,\n",
       " 'nibh': 1,\n",
       " 'mauris': 2,\n",
       " 'pulvinar': 2,\n",
       " 'dui': 2,\n",
       " 'nec': 1,\n",
       " 'ultrices': 1,\n",
       " 'eu': 1,\n",
       " 'magna': 1,\n",
       " 'non': 1,\n",
       " 'risus': 1,\n",
       " 'tristique': 2,\n",
       " 'blandit': 1,\n",
       " 'etiam': 1,\n",
       " 'id': 1,\n",
       " 'tellus': 1,\n",
       " 'pellentesque': 1,\n",
       " 'habitant': 1,\n",
       " 'morbi': 1,\n",
       " 'senectus': 1,\n",
       " 'et': 2,\n",
       " 'netus': 1,\n",
       " 'malesuada': 1,\n",
       " 'fames': 1,\n",
       " 'turpis': 1,\n",
       " 'egestas': 1,\n",
       " 'neque': 1,\n",
       " 'volutpat': 1}"
      ]
     },
     "execution_count": 83,
     "metadata": {},
     "output_type": "execute_result"
    }
   ],
   "source": [
    "dc_palavras"
   ]
  },
  {
   "cell_type": "markdown",
   "id": "bf5011fe",
   "metadata": {},
   "source": [
    "## Monte um algoritmo que pergunta um número ao usuário e retorna fatorial desse número."
   ]
  },
  {
   "cell_type": "code",
   "execution_count": 85,
   "id": "4f72e123",
   "metadata": {},
   "outputs": [
    {
     "name": "stdin",
     "output_type": "stream",
     "text": [
      "Digite o número:  20\n"
     ]
    }
   ],
   "source": [
    "num = int(input('Digite o número: '))"
   ]
  },
  {
   "cell_type": "code",
   "execution_count": 99,
   "id": "e4c2dc6e",
   "metadata": {},
   "outputs": [],
   "source": [
    "x = 1\n",
    "\n",
    "for a in range(2,num+1):\n",
    "    x *= a"
   ]
  },
  {
   "cell_type": "markdown",
   "id": "41ae28a6",
   "metadata": {},
   "source": [
    "As Organizações Tabajara resolveram dar um aumento de salário aos seus colaboradores e lhe contraram para desenvolver o programa que calculará os reajustes.\n",
    "Faça um programa que recebe o salário de um colaborador e o reajuste segundo o seguinte critério, baseado no salário atual:\n",
    "\n",
    "* salários até R$ 280,00 (incluindo) -> aumento de 20%\n",
    "* salários entre R$ 280,00 e R$ 700,00 -> aumento de 15%\n",
    "* salários entre R$ 700,00 e R$ 1500,00 -> aumento de 10%\n",
    "* salários de R$ 1500,00 em diante -> aumento de 5% \n",
    "\n",
    "Após o aumento ser realizado, informe na tela:\n",
    "* o salário antes do reajuste;\n",
    "* o percentual de aumento aplicado;\n",
    "* o valor do aumento;\n",
    "* o novo salário, após o aumento."
   ]
  },
  {
   "cell_type": "code",
   "execution_count": 103,
   "id": "92ace4b9",
   "metadata": {},
   "outputs": [
    {
     "name": "stdin",
     "output_type": "stream",
     "text": [
      "Informe o salário do funcionário:  14578.12\n"
     ]
    }
   ],
   "source": [
    "salario = float(input('Informe o salário do funcionário: '))"
   ]
  },
  {
   "cell_type": "code",
   "execution_count": 113,
   "id": "d3ead209",
   "metadata": {},
   "outputs": [
    {
     "name": "stdout",
     "output_type": "stream",
     "text": [
      "Salario antes do reajuste -> 14578.12\n",
      "Percentual de ajuste -> 5.0\n",
      "Valor do aumento -> 728.91\n",
      "Novo Salario -> 15307.03\n"
     ]
    }
   ],
   "source": [
    "print('Salario antes do reajuste ->', salario)\n",
    "v_percentual = 0\n",
    "\n",
    "if salario <= 280.00:\n",
    "    v_percentual = 0.2\n",
    "elif salario > 280 and salario <= 700:\n",
    "    v_percentual = 0.15\n",
    "elif salario > 700 and salario <= 1500:\n",
    "    v_percentual = 0.1\n",
    "else:\n",
    "    v_percentual = 0.05\n",
    "\n",
    "print('Percentual de ajuste ->',v_percentual*100)\n",
    "print('Valor do aumento ->',round(salario*v_percentual,2))\n",
    "print('Novo Salario ->',round(salario*(v_percentual+1),2))"
   ]
  },
  {
   "cell_type": "markdown",
   "id": "cb22d3ff",
   "metadata": {},
   "source": [
    "# Monte um algoritmo que recebe uma lista e retorna sua multiplicação, soma e divisão de cada valor pelo máximo da lista."
   ]
  },
  {
   "cell_type": "code",
   "execution_count": 123,
   "id": "4308a550",
   "metadata": {},
   "outputs": [],
   "source": [
    "ls = [5,10,45,24,7,8,5,4,77,88,99,366]"
   ]
  },
  {
   "cell_type": "code",
   "execution_count": 137,
   "id": "ad5648d7",
   "metadata": {},
   "outputs": [],
   "source": [
    "soma = 0\n",
    "multiplicacao = 1\n",
    "divisao = []\n",
    "\n",
    "maximo = max(ls)\n",
    "\n",
    "for valor in ls:\n",
    "    soma += valor\n",
    "    multiplicacao *= valor\n",
    "    divisao.append(valor/maximo)"
   ]
  },
  {
   "cell_type": "code",
   "execution_count": 139,
   "id": "366cfab6",
   "metadata": {},
   "outputs": [
    {
     "data": {
      "text/plain": [
       "738"
      ]
     },
     "execution_count": 139,
     "metadata": {},
     "output_type": "execute_result"
    }
   ],
   "source": [
    "soma"
   ]
  },
  {
   "cell_type": "code",
   "execution_count": 140,
   "id": "79f56542",
   "metadata": {},
   "outputs": [
    {
     "data": {
      "text/plain": [
       "14849145400320000"
      ]
     },
     "execution_count": 140,
     "metadata": {},
     "output_type": "execute_result"
    }
   ],
   "source": [
    "multiplicacao"
   ]
  },
  {
   "cell_type": "code",
   "execution_count": 145,
   "id": "65202845",
   "metadata": {},
   "outputs": [
    {
     "data": {
      "text/plain": [
       "[0.06557377049180328,\n",
       " 0.02185792349726776,\n",
       " 0.01092896174863388,\n",
       " 0.24043715846994534]"
      ]
     },
     "execution_count": 145,
     "metadata": {},
     "output_type": "execute_result"
    }
   ],
   "source": [
    "[valor/max(ls) for valor in ls if valor%2 == 0 and valor%4 == 0]"
   ]
  },
  {
   "cell_type": "markdown",
   "id": "6076d426",
   "metadata": {},
   "source": [
    "## Dica Questão [7:]"
   ]
  },
  {
   "cell_type": "code",
   "execution_count": 146,
   "id": "c3c114cc",
   "metadata": {},
   "outputs": [],
   "source": [
    "lista_original = [15,16,17,58,95,68,35,12,12,12,44,87,95,66,78,10,12,73,155,788,157,15,25,77,185,167,142,135,172,111,121,100,101,135,196,117,156,125,189,147,155,178,142,143,156,189,178,112,113,154,144]"
   ]
  },
  {
   "cell_type": "markdown",
   "id": "94c838bf",
   "metadata": {},
   "source": [
    "![](https://i.ytimg.com/vi/IaTFpp-uzp0/maxresdefault.jpg)"
   ]
  },
  {
   "cell_type": "code",
   "execution_count": 164,
   "id": "453112f8",
   "metadata": {},
   "outputs": [
    {
     "data": {
      "text/plain": [
       "117.3529411764706"
      ]
     },
     "execution_count": 164,
     "metadata": {},
     "output_type": "execute_result"
    }
   ],
   "source": [
    "## calculando a media\n",
    "\n",
    "media = sum(lista_original) / len(lista_original)\n",
    "media"
   ]
  },
  {
   "cell_type": "code",
   "execution_count": 165,
   "id": "a499abbc",
   "metadata": {},
   "outputs": [],
   "source": [
    "## desvio padrao\n",
    "\n",
    "dp = (sum([(valor - media)**2 for valor in lista_original]) / (len(lista_original) - 1))**0.5"
   ]
  },
  {
   "cell_type": "code",
   "execution_count": 166,
   "id": "feb68ba4",
   "metadata": {},
   "outputs": [
    {
     "data": {
      "text/plain": [
       "112.31399263304849"
      ]
     },
     "execution_count": 166,
     "metadata": {},
     "output_type": "execute_result"
    }
   ],
   "source": [
    "dp"
   ]
  },
  {
   "cell_type": "code",
   "execution_count": 173,
   "id": "6d770daf",
   "metadata": {},
   "outputs": [],
   "source": [
    "sdr = []\n",
    "\n",
    "for regra in range(0,200):\n",
    "    \n",
    "    a = []\n",
    "    b = []\n",
    "        \n",
    "    for valor in lista_original:\n",
    "        if valor > regra:\n",
    "            a.append(valor)\n",
    "        else:\n",
    "            b.append(valor)\n",
    "            \n",
    "            "
   ]
  },
  {
   "cell_type": "code",
   "execution_count": 175,
   "id": "754837ac",
   "metadata": {},
   "outputs": [
    {
     "data": {
      "text/plain": [
       "146.92439226443886"
      ]
     },
     "execution_count": 175,
     "metadata": {},
     "output_type": "execute_result"
    }
   ],
   "source": [
    "dp_a = (sum([(valor - media)**2 for valor in a]) / (len(a) - 1))**0.5\n",
    "dp_a"
   ]
  },
  {
   "cell_type": "code",
   "execution_count": 181,
   "id": "7e7bedb3",
   "metadata": {},
   "outputs": [],
   "source": [
    "sdr_a = dp_a * (len(a)/ len(lista_original))"
   ]
  },
  {
   "cell_type": "code",
   "execution_count": 182,
   "id": "a59fd8b0",
   "metadata": {},
   "outputs": [
    {
     "data": {
      "text/plain": [
       "71.85074676730527"
      ]
     },
     "execution_count": 182,
     "metadata": {},
     "output_type": "execute_result"
    }
   ],
   "source": [
    "dp_b = (sum([(valor - media)**2 for valor in b]) / (len(b) - 1))**0.5\n",
    "dp_b"
   ]
  },
  {
   "cell_type": "code",
   "execution_count": 183,
   "id": "54cfd7f2",
   "metadata": {},
   "outputs": [],
   "source": [
    "sdr_b = dp_b * (len(b)/ len(lista_original))"
   ]
  },
  {
   "cell_type": "code",
   "execution_count": 184,
   "id": "680c7fbc",
   "metadata": {},
   "outputs": [
    {
     "data": {
      "text/plain": [
       "107.17952111889755"
      ]
     },
     "execution_count": 184,
     "metadata": {},
     "output_type": "execute_result"
    }
   ],
   "source": [
    "sdr_b + sdr_a"
   ]
  },
  {
   "cell_type": "markdown",
   "id": "cb8050a2",
   "metadata": {},
   "source": [
    "## Encontre a mediana da lista abaixo"
   ]
  },
  {
   "cell_type": "code",
   "execution_count": 185,
   "id": "c91105c7",
   "metadata": {},
   "outputs": [],
   "source": [
    "lista_original = [15,16,17,58,95,68,35,12,12,12,44,87,95,66,78,10,12,73,155,788,157,15,25,77,185,167,142,135,172,111,121,100,101,135,196,117,156,125,189,147,155,178,142,143,156,189,178,112,113,154,144]"
   ]
  },
  {
   "cell_type": "code",
   "execution_count": 186,
   "id": "5670918e",
   "metadata": {},
   "outputs": [],
   "source": [
    "lista_original.sort()"
   ]
  },
  {
   "cell_type": "code",
   "execution_count": 197,
   "id": "822048ae",
   "metadata": {},
   "outputs": [
    {
     "name": "stdout",
     "output_type": "stream",
     "text": [
      "113\n"
     ]
    }
   ],
   "source": [
    "tamanho = len(lista_original)\n",
    "central = tamanho//2\n",
    "\n",
    "if tamanho % 2 == 0:\n",
    "    mediana = (lista_original[central-1] + lista_original[central]) / 2\n",
    "    print(mediana)\n",
    "else:\n",
    "    mediana = lista_original[central]\n",
    "    print(mediana)"
   ]
  }
 ],
 "metadata": {
  "kernelspec": {
   "display_name": "Python 3",
   "language": "python",
   "name": "python3"
  },
  "language_info": {
   "codemirror_mode": {
    "name": "ipython",
    "version": 3
   },
   "file_extension": ".py",
   "mimetype": "text/x-python",
   "name": "python",
   "nbconvert_exporter": "python",
   "pygments_lexer": "ipython3",
   "version": "3.8.5"
  }
 },
 "nbformat": 4,
 "nbformat_minor": 5
}

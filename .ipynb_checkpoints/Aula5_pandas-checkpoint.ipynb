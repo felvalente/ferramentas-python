{
 "cells": [
  {
   "cell_type": "markdown",
   "id": "ecc20ed9",
   "metadata": {},
   "source": [
    "<img src=\"imgs/mesttra.png\" alt=\"mesttra_logo\" style=\"width: 200px;\"/>\n",
    "\n",
    "# Pandas\n",
    "___\n",
    "\n",
    "Pandas é a principal biblioteca de manipulação e análise de dados em Python. Ela é perfeita para análises exploratórias, pois permite ler, manipular, agregar e até plotar um conjunto de dados em poucos passos. Pandas possui duas estruturas básicas, a primeira é a Série (uma dimensão) e o DataFrame(duas dimensões) resumidamente chamado de ```df```."
   ]
  },
  {
   "cell_type": "code",
   "execution_count": 4,
   "id": "2468282e",
   "metadata": {},
   "outputs": [],
   "source": [
    "## importando os pandas\n",
    "\n",
    "import pandas"
   ]
  },
  {
   "cell_type": "markdown",
   "id": "5dc9b98a",
   "metadata": {},
   "source": [
    "Ao importar uma biblioteca podemos atribuir um apelido (alias) a ela. Isso é uma boa prática e existem alguns apelidos que são tão utilizados que já viraram sinônimo da própria biblioteca."
   ]
  },
  {
   "cell_type": "code",
   "execution_count": null,
   "id": "99b9499b",
   "metadata": {},
   "outputs": [],
   "source": [
    "import pandas as pd\n",
    "import numpy as np\n",
    "\n",
    "pandas.read_csv('/content/sample_data/california_housing_train.csv')"
   ]
  },
  {
   "cell_type": "markdown",
   "id": "042fb166",
   "metadata": {},
   "source": [
    "Podemos ainda escolher exatamente a função que gostaríamos de importar. Esse não é um método recomendado, pois causa confusão na leitura do código."
   ]
  },
  {
   "cell_type": "code",
   "execution_count": null,
   "id": "581a7243",
   "metadata": {},
   "outputs": [],
   "source": [
    "from pandas import read_csv\n",
    "\n",
    "read_csv('/content/sample_data/california_housing_train.csv')"
   ]
  },
  {
   "cell_type": "code",
   "execution_count": null,
   "id": "f878175f",
   "metadata": {},
   "outputs": [],
   "source": [
    "## coletando os dados\n",
    "\n",
    "!wget 'https://archive.ics.uci.edu/ml/machine-learning-databases/wine-quality/winequality-white.csv'"
   ]
  },
  {
   "cell_type": "code",
   "execution_count": null,
   "id": "049b4305",
   "metadata": {},
   "outputs": [],
   "source": [
    "df = pd.read_csv('winequality-white.csv',sep=';')\n",
    "df.head()"
   ]
  },
  {
   "cell_type": "markdown",
   "id": "69e40681",
   "metadata": {},
   "source": [
    "## O Dataframe"
   ]
  },
  {
   "cell_type": "code",
   "execution_count": 7,
   "id": "db51051e",
   "metadata": {},
   "outputs": [
    {
     "data": {
      "text/html": [
       "<div>\n",
       "<style scoped>\n",
       "    .dataframe tbody tr th:only-of-type {\n",
       "        vertical-align: middle;\n",
       "    }\n",
       "\n",
       "    .dataframe tbody tr th {\n",
       "        vertical-align: top;\n",
       "    }\n",
       "\n",
       "    .dataframe thead th {\n",
       "        text-align: right;\n",
       "    }\n",
       "</style>\n",
       "<table border=\"1\" class=\"dataframe\">\n",
       "  <thead>\n",
       "    <tr style=\"text-align: right;\">\n",
       "      <th></th>\n",
       "      <th>idade</th>\n",
       "      <th>altura</th>\n",
       "      <th>tamanho do pe</th>\n",
       "      <th>salario</th>\n",
       "      <th>cor_do_olho</th>\n",
       "      <th>peso</th>\n",
       "    </tr>\n",
       "  </thead>\n",
       "  <tbody>\n",
       "    <tr>\n",
       "      <th>nasser</th>\n",
       "      <td>0</td>\n",
       "      <td>1</td>\n",
       "      <td>2</td>\n",
       "      <td>3</td>\n",
       "      <td>4</td>\n",
       "      <td>5</td>\n",
       "    </tr>\n",
       "    <tr>\n",
       "      <th>joao</th>\n",
       "      <td>6</td>\n",
       "      <td>7</td>\n",
       "      <td>8</td>\n",
       "      <td>9</td>\n",
       "      <td>10</td>\n",
       "      <td>11</td>\n",
       "    </tr>\n",
       "    <tr>\n",
       "      <th>marcelo</th>\n",
       "      <td>12</td>\n",
       "      <td>13</td>\n",
       "      <td>14</td>\n",
       "      <td>15</td>\n",
       "      <td>16</td>\n",
       "      <td>17</td>\n",
       "    </tr>\n",
       "    <tr>\n",
       "      <th>maria</th>\n",
       "      <td>18</td>\n",
       "      <td>19</td>\n",
       "      <td>20</td>\n",
       "      <td>21</td>\n",
       "      <td>22</td>\n",
       "      <td>23</td>\n",
       "    </tr>\n",
       "    <tr>\n",
       "      <th>joana</th>\n",
       "      <td>24</td>\n",
       "      <td>25</td>\n",
       "      <td>26</td>\n",
       "      <td>27</td>\n",
       "      <td>28</td>\n",
       "      <td>29</td>\n",
       "    </tr>\n",
       "    <tr>\n",
       "      <th>raquel</th>\n",
       "      <td>30</td>\n",
       "      <td>31</td>\n",
       "      <td>32</td>\n",
       "      <td>33</td>\n",
       "      <td>34</td>\n",
       "      <td>35</td>\n",
       "    </tr>\n",
       "  </tbody>\n",
       "</table>\n",
       "</div>"
      ],
      "text/plain": [
       "         idade  altura  tamanho do pe  salario  cor_do_olho  peso\n",
       "nasser       0       1              2        3            4     5\n",
       "joao         6       7              8        9           10    11\n",
       "marcelo     12      13             14       15           16    17\n",
       "maria       18      19             20       21           22    23\n",
       "joana       24      25             26       27           28    29\n",
       "raquel      30      31             32       33           34    35"
      ]
     },
     "execution_count": 7,
     "metadata": {},
     "output_type": "execute_result"
    }
   ],
   "source": [
    "## criando um dataframe\n",
    "\n",
    "arr = np.arange(36).reshape(6,6)\n",
    "df = pd.DataFrame(arr,                                                                       ## dados\n",
    "                  columns=['idade','altura','tamanho do pe','salario','cor_do_olho','peso'], ##nome das colunas\n",
    "                  index=['nasser','joao','marcelo','maria','joana','raquel'])                ## indices\n",
    "\n",
    "df"
   ]
  },
  {
   "cell_type": "code",
   "execution_count": 8,
   "id": "2cfeaab0",
   "metadata": {},
   "outputs": [
    {
     "data": {
      "text/plain": [
       "nasser      0\n",
       "joao        6\n",
       "marcelo    12\n",
       "maria      18\n",
       "joana      24\n",
       "raquel     30\n",
       "Name: idade, dtype: int64"
      ]
     },
     "execution_count": 8,
     "metadata": {},
     "output_type": "execute_result"
    }
   ],
   "source": [
    "## acessando a série idade do dataframe acima\n",
    "\n",
    "df.idade"
   ]
  },
  {
   "cell_type": "code",
   "execution_count": 9,
   "id": "c9a47bbd",
   "metadata": {},
   "outputs": [
    {
     "ename": "KeyError",
     "evalue": "'cor do olho'",
     "output_type": "error",
     "traceback": [
      "\u001b[0;31m---------------------------------------------------------------------------\u001b[0m",
      "\u001b[0;31mKeyError\u001b[0m                                  Traceback (most recent call last)",
      "\u001b[0;32m~/miniconda3/lib/python3.8/site-packages/pandas/core/indexes/base.py\u001b[0m in \u001b[0;36mget_loc\u001b[0;34m(self, key, method, tolerance)\u001b[0m\n\u001b[1;32m   3079\u001b[0m             \u001b[0;32mtry\u001b[0m\u001b[0;34m:\u001b[0m\u001b[0;34m\u001b[0m\u001b[0;34m\u001b[0m\u001b[0m\n\u001b[0;32m-> 3080\u001b[0;31m                 \u001b[0;32mreturn\u001b[0m \u001b[0mself\u001b[0m\u001b[0;34m.\u001b[0m\u001b[0m_engine\u001b[0m\u001b[0;34m.\u001b[0m\u001b[0mget_loc\u001b[0m\u001b[0;34m(\u001b[0m\u001b[0mcasted_key\u001b[0m\u001b[0;34m)\u001b[0m\u001b[0;34m\u001b[0m\u001b[0;34m\u001b[0m\u001b[0m\n\u001b[0m\u001b[1;32m   3081\u001b[0m             \u001b[0;32mexcept\u001b[0m \u001b[0mKeyError\u001b[0m \u001b[0;32mas\u001b[0m \u001b[0merr\u001b[0m\u001b[0;34m:\u001b[0m\u001b[0;34m\u001b[0m\u001b[0;34m\u001b[0m\u001b[0m\n",
      "\u001b[0;32mpandas/_libs/index.pyx\u001b[0m in \u001b[0;36mpandas._libs.index.IndexEngine.get_loc\u001b[0;34m()\u001b[0m\n",
      "\u001b[0;32mpandas/_libs/index.pyx\u001b[0m in \u001b[0;36mpandas._libs.index.IndexEngine.get_loc\u001b[0;34m()\u001b[0m\n",
      "\u001b[0;32mpandas/_libs/hashtable_class_helper.pxi\u001b[0m in \u001b[0;36mpandas._libs.hashtable.PyObjectHashTable.get_item\u001b[0;34m()\u001b[0m\n",
      "\u001b[0;32mpandas/_libs/hashtable_class_helper.pxi\u001b[0m in \u001b[0;36mpandas._libs.hashtable.PyObjectHashTable.get_item\u001b[0;34m()\u001b[0m\n",
      "\u001b[0;31mKeyError\u001b[0m: 'cor do olho'",
      "\nThe above exception was the direct cause of the following exception:\n",
      "\u001b[0;31mKeyError\u001b[0m                                  Traceback (most recent call last)",
      "\u001b[0;32m<ipython-input-9-75e4f2a7c94d>\u001b[0m in \u001b[0;36m<module>\u001b[0;34m\u001b[0m\n\u001b[0;32m----> 1\u001b[0;31m \u001b[0mdf\u001b[0m\u001b[0;34m[\u001b[0m\u001b[0;34m'cor do olho'\u001b[0m\u001b[0;34m]\u001b[0m\u001b[0;34m\u001b[0m\u001b[0;34m\u001b[0m\u001b[0m\n\u001b[0m",
      "\u001b[0;32m~/miniconda3/lib/python3.8/site-packages/pandas/core/frame.py\u001b[0m in \u001b[0;36m__getitem__\u001b[0;34m(self, key)\u001b[0m\n\u001b[1;32m   3022\u001b[0m             \u001b[0;32mif\u001b[0m \u001b[0mself\u001b[0m\u001b[0;34m.\u001b[0m\u001b[0mcolumns\u001b[0m\u001b[0;34m.\u001b[0m\u001b[0mnlevels\u001b[0m \u001b[0;34m>\u001b[0m \u001b[0;36m1\u001b[0m\u001b[0;34m:\u001b[0m\u001b[0;34m\u001b[0m\u001b[0;34m\u001b[0m\u001b[0m\n\u001b[1;32m   3023\u001b[0m                 \u001b[0;32mreturn\u001b[0m \u001b[0mself\u001b[0m\u001b[0;34m.\u001b[0m\u001b[0m_getitem_multilevel\u001b[0m\u001b[0;34m(\u001b[0m\u001b[0mkey\u001b[0m\u001b[0;34m)\u001b[0m\u001b[0;34m\u001b[0m\u001b[0;34m\u001b[0m\u001b[0m\n\u001b[0;32m-> 3024\u001b[0;31m             \u001b[0mindexer\u001b[0m \u001b[0;34m=\u001b[0m \u001b[0mself\u001b[0m\u001b[0;34m.\u001b[0m\u001b[0mcolumns\u001b[0m\u001b[0;34m.\u001b[0m\u001b[0mget_loc\u001b[0m\u001b[0;34m(\u001b[0m\u001b[0mkey\u001b[0m\u001b[0;34m)\u001b[0m\u001b[0;34m\u001b[0m\u001b[0;34m\u001b[0m\u001b[0m\n\u001b[0m\u001b[1;32m   3025\u001b[0m             \u001b[0;32mif\u001b[0m \u001b[0mis_integer\u001b[0m\u001b[0;34m(\u001b[0m\u001b[0mindexer\u001b[0m\u001b[0;34m)\u001b[0m\u001b[0;34m:\u001b[0m\u001b[0;34m\u001b[0m\u001b[0;34m\u001b[0m\u001b[0m\n\u001b[1;32m   3026\u001b[0m                 \u001b[0mindexer\u001b[0m \u001b[0;34m=\u001b[0m \u001b[0;34m[\u001b[0m\u001b[0mindexer\u001b[0m\u001b[0;34m]\u001b[0m\u001b[0;34m\u001b[0m\u001b[0;34m\u001b[0m\u001b[0m\n",
      "\u001b[0;32m~/miniconda3/lib/python3.8/site-packages/pandas/core/indexes/base.py\u001b[0m in \u001b[0;36mget_loc\u001b[0;34m(self, key, method, tolerance)\u001b[0m\n\u001b[1;32m   3080\u001b[0m                 \u001b[0;32mreturn\u001b[0m \u001b[0mself\u001b[0m\u001b[0;34m.\u001b[0m\u001b[0m_engine\u001b[0m\u001b[0;34m.\u001b[0m\u001b[0mget_loc\u001b[0m\u001b[0;34m(\u001b[0m\u001b[0mcasted_key\u001b[0m\u001b[0;34m)\u001b[0m\u001b[0;34m\u001b[0m\u001b[0;34m\u001b[0m\u001b[0m\n\u001b[1;32m   3081\u001b[0m             \u001b[0;32mexcept\u001b[0m \u001b[0mKeyError\u001b[0m \u001b[0;32mas\u001b[0m \u001b[0merr\u001b[0m\u001b[0;34m:\u001b[0m\u001b[0;34m\u001b[0m\u001b[0;34m\u001b[0m\u001b[0m\n\u001b[0;32m-> 3082\u001b[0;31m                 \u001b[0;32mraise\u001b[0m \u001b[0mKeyError\u001b[0m\u001b[0;34m(\u001b[0m\u001b[0mkey\u001b[0m\u001b[0;34m)\u001b[0m \u001b[0;32mfrom\u001b[0m \u001b[0merr\u001b[0m\u001b[0;34m\u001b[0m\u001b[0;34m\u001b[0m\u001b[0m\n\u001b[0m\u001b[1;32m   3083\u001b[0m \u001b[0;34m\u001b[0m\u001b[0m\n\u001b[1;32m   3084\u001b[0m         \u001b[0;32mif\u001b[0m \u001b[0mtolerance\u001b[0m \u001b[0;32mis\u001b[0m \u001b[0;32mnot\u001b[0m \u001b[0;32mNone\u001b[0m\u001b[0;34m:\u001b[0m\u001b[0;34m\u001b[0m\u001b[0;34m\u001b[0m\u001b[0m\n",
      "\u001b[0;31mKeyError\u001b[0m: 'cor do olho'"
     ]
    }
   ],
   "source": [
    "df['cor do olho']"
   ]
  },
  {
   "cell_type": "code",
   "execution_count": 10,
   "id": "f532931f",
   "metadata": {},
   "outputs": [
    {
     "data": {
      "text/plain": [
       "Index(['idade', 'altura', 'tamanho do pe', 'salario', 'cor_do_olho', 'peso'], dtype='object')"
      ]
     },
     "execution_count": 10,
     "metadata": {},
     "output_type": "execute_result"
    }
   ],
   "source": [
    "df.columns"
   ]
  },
  {
   "cell_type": "code",
   "execution_count": 11,
   "id": "9ab48527",
   "metadata": {},
   "outputs": [],
   "source": [
    "df.columns = [x.replace(' ','_') for x in df.columns]"
   ]
  },
  {
   "cell_type": "code",
   "execution_count": 12,
   "id": "05031343",
   "metadata": {},
   "outputs": [
    {
     "data": {
      "text/html": [
       "<div>\n",
       "<style scoped>\n",
       "    .dataframe tbody tr th:only-of-type {\n",
       "        vertical-align: middle;\n",
       "    }\n",
       "\n",
       "    .dataframe tbody tr th {\n",
       "        vertical-align: top;\n",
       "    }\n",
       "\n",
       "    .dataframe thead th {\n",
       "        text-align: right;\n",
       "    }\n",
       "</style>\n",
       "<table border=\"1\" class=\"dataframe\">\n",
       "  <thead>\n",
       "    <tr style=\"text-align: right;\">\n",
       "      <th></th>\n",
       "      <th>idade</th>\n",
       "      <th>altura</th>\n",
       "      <th>tamanho_do_pe</th>\n",
       "      <th>salario</th>\n",
       "      <th>cor_do_olho</th>\n",
       "      <th>peso</th>\n",
       "    </tr>\n",
       "  </thead>\n",
       "  <tbody>\n",
       "    <tr>\n",
       "      <th>nasser</th>\n",
       "      <td>0</td>\n",
       "      <td>1</td>\n",
       "      <td>2</td>\n",
       "      <td>3</td>\n",
       "      <td>4</td>\n",
       "      <td>5</td>\n",
       "    </tr>\n",
       "    <tr>\n",
       "      <th>joao</th>\n",
       "      <td>6</td>\n",
       "      <td>7</td>\n",
       "      <td>8</td>\n",
       "      <td>9</td>\n",
       "      <td>10</td>\n",
       "      <td>11</td>\n",
       "    </tr>\n",
       "    <tr>\n",
       "      <th>marcelo</th>\n",
       "      <td>12</td>\n",
       "      <td>13</td>\n",
       "      <td>14</td>\n",
       "      <td>15</td>\n",
       "      <td>16</td>\n",
       "      <td>17</td>\n",
       "    </tr>\n",
       "    <tr>\n",
       "      <th>maria</th>\n",
       "      <td>18</td>\n",
       "      <td>19</td>\n",
       "      <td>20</td>\n",
       "      <td>21</td>\n",
       "      <td>22</td>\n",
       "      <td>23</td>\n",
       "    </tr>\n",
       "    <tr>\n",
       "      <th>joana</th>\n",
       "      <td>24</td>\n",
       "      <td>25</td>\n",
       "      <td>26</td>\n",
       "      <td>27</td>\n",
       "      <td>28</td>\n",
       "      <td>29</td>\n",
       "    </tr>\n",
       "    <tr>\n",
       "      <th>raquel</th>\n",
       "      <td>30</td>\n",
       "      <td>31</td>\n",
       "      <td>32</td>\n",
       "      <td>33</td>\n",
       "      <td>34</td>\n",
       "      <td>35</td>\n",
       "    </tr>\n",
       "  </tbody>\n",
       "</table>\n",
       "</div>"
      ],
      "text/plain": [
       "         idade  altura  tamanho_do_pe  salario  cor_do_olho  peso\n",
       "nasser       0       1              2        3            4     5\n",
       "joao         6       7              8        9           10    11\n",
       "marcelo     12      13             14       15           16    17\n",
       "maria       18      19             20       21           22    23\n",
       "joana       24      25             26       27           28    29\n",
       "raquel      30      31             32       33           34    35"
      ]
     },
     "execution_count": 12,
     "metadata": {},
     "output_type": "execute_result"
    }
   ],
   "source": [
    "df"
   ]
  },
  {
   "cell_type": "code",
   "execution_count": 13,
   "id": "15ca5414",
   "metadata": {},
   "outputs": [
    {
     "name": "stdout",
     "output_type": "stream",
     "text": [
      "idade\n",
      "altura\n",
      "tamanho_do_pe\n",
      "salario\n",
      "cor_do_olho\n",
      "peso\n"
     ]
    }
   ],
   "source": [
    "for coluna in df.columns:\n",
    "    print(coluna)"
   ]
  },
  {
   "cell_type": "code",
   "execution_count": 14,
   "id": "120357ac",
   "metadata": {},
   "outputs": [
    {
     "data": {
      "text/plain": [
       "nasser      4\n",
       "joao       10\n",
       "marcelo    16\n",
       "maria      22\n",
       "joana      28\n",
       "raquel     34\n",
       "Name: cor_do_olho, dtype: int64"
      ]
     },
     "execution_count": 14,
     "metadata": {},
     "output_type": "execute_result"
    }
   ],
   "source": [
    "df.cor_do_olho"
   ]
  },
  {
   "cell_type": "code",
   "execution_count": 15,
   "id": "80d1a676",
   "metadata": {},
   "outputs": [
    {
     "data": {
      "text/plain": [
       "a     1\n",
       "b     2\n",
       "c     3\n",
       "d     4\n",
       "e    10\n",
       "Name: numeros, dtype: int64"
      ]
     },
     "execution_count": 15,
     "metadata": {},
     "output_type": "execute_result"
    }
   ],
   "source": [
    "pd.Series([1,2,3,4,10],index=['a','b','c','d','e'],name='numeros',dtype='int64')"
   ]
  },
  {
   "cell_type": "code",
   "execution_count": 16,
   "id": "84021a6d",
   "metadata": {},
   "outputs": [],
   "source": [
    "df['altura'] = 0"
   ]
  },
  {
   "cell_type": "code",
   "execution_count": 17,
   "id": "de1d5e1d",
   "metadata": {},
   "outputs": [],
   "source": [
    "df['dedos_da_mao'] = [9,10,np.nan,10.0,10,10]"
   ]
  },
  {
   "cell_type": "code",
   "execution_count": 18,
   "id": "4e96b91a",
   "metadata": {},
   "outputs": [
    {
     "data": {
      "text/plain": [
       "dtype('float64')"
      ]
     },
     "execution_count": 18,
     "metadata": {},
     "output_type": "execute_result"
    }
   ],
   "source": [
    "df.dedos_da_mao.dtype"
   ]
  },
  {
   "cell_type": "code",
   "execution_count": 19,
   "id": "8c71fa5d",
   "metadata": {},
   "outputs": [
    {
     "data": {
      "text/plain": [
       "nan"
      ]
     },
     "execution_count": 19,
     "metadata": {},
     "output_type": "execute_result"
    }
   ],
   "source": [
    "df.dedos_da_mao.marcelo"
   ]
  },
  {
   "cell_type": "code",
   "execution_count": 21,
   "id": "9e9d1382",
   "metadata": {},
   "outputs": [],
   "source": [
    "df.dedos_da_mao.joao = 5"
   ]
  },
  {
   "cell_type": "code",
   "execution_count": 22,
   "id": "f4124bdd",
   "metadata": {},
   "outputs": [
    {
     "data": {
      "text/html": [
       "<div>\n",
       "<style scoped>\n",
       "    .dataframe tbody tr th:only-of-type {\n",
       "        vertical-align: middle;\n",
       "    }\n",
       "\n",
       "    .dataframe tbody tr th {\n",
       "        vertical-align: top;\n",
       "    }\n",
       "\n",
       "    .dataframe thead th {\n",
       "        text-align: right;\n",
       "    }\n",
       "</style>\n",
       "<table border=\"1\" class=\"dataframe\">\n",
       "  <thead>\n",
       "    <tr style=\"text-align: right;\">\n",
       "      <th></th>\n",
       "      <th>idade</th>\n",
       "      <th>altura</th>\n",
       "      <th>tamanho_do_pe</th>\n",
       "      <th>salario</th>\n",
       "      <th>cor_do_olho</th>\n",
       "      <th>peso</th>\n",
       "      <th>dedos_da_mao</th>\n",
       "    </tr>\n",
       "  </thead>\n",
       "  <tbody>\n",
       "    <tr>\n",
       "      <th>nasser</th>\n",
       "      <td>0</td>\n",
       "      <td>0</td>\n",
       "      <td>2</td>\n",
       "      <td>3</td>\n",
       "      <td>4</td>\n",
       "      <td>5</td>\n",
       "      <td>9.0</td>\n",
       "    </tr>\n",
       "    <tr>\n",
       "      <th>joao</th>\n",
       "      <td>6</td>\n",
       "      <td>0</td>\n",
       "      <td>8</td>\n",
       "      <td>9</td>\n",
       "      <td>10</td>\n",
       "      <td>11</td>\n",
       "      <td>5.0</td>\n",
       "    </tr>\n",
       "    <tr>\n",
       "      <th>marcelo</th>\n",
       "      <td>12</td>\n",
       "      <td>0</td>\n",
       "      <td>14</td>\n",
       "      <td>15</td>\n",
       "      <td>16</td>\n",
       "      <td>17</td>\n",
       "      <td>NaN</td>\n",
       "    </tr>\n",
       "    <tr>\n",
       "      <th>maria</th>\n",
       "      <td>18</td>\n",
       "      <td>0</td>\n",
       "      <td>20</td>\n",
       "      <td>21</td>\n",
       "      <td>22</td>\n",
       "      <td>23</td>\n",
       "      <td>10.0</td>\n",
       "    </tr>\n",
       "    <tr>\n",
       "      <th>joana</th>\n",
       "      <td>24</td>\n",
       "      <td>0</td>\n",
       "      <td>26</td>\n",
       "      <td>27</td>\n",
       "      <td>28</td>\n",
       "      <td>29</td>\n",
       "      <td>10.0</td>\n",
       "    </tr>\n",
       "    <tr>\n",
       "      <th>raquel</th>\n",
       "      <td>30</td>\n",
       "      <td>0</td>\n",
       "      <td>32</td>\n",
       "      <td>33</td>\n",
       "      <td>34</td>\n",
       "      <td>35</td>\n",
       "      <td>10.0</td>\n",
       "    </tr>\n",
       "  </tbody>\n",
       "</table>\n",
       "</div>"
      ],
      "text/plain": [
       "         idade  altura  tamanho_do_pe  salario  cor_do_olho  peso  \\\n",
       "nasser       0       0              2        3            4     5   \n",
       "joao         6       0              8        9           10    11   \n",
       "marcelo     12       0             14       15           16    17   \n",
       "maria       18       0             20       21           22    23   \n",
       "joana       24       0             26       27           28    29   \n",
       "raquel      30       0             32       33           34    35   \n",
       "\n",
       "         dedos_da_mao  \n",
       "nasser            9.0  \n",
       "joao              5.0  \n",
       "marcelo           NaN  \n",
       "maria            10.0  \n",
       "joana            10.0  \n",
       "raquel           10.0  "
      ]
     },
     "execution_count": 22,
     "metadata": {},
     "output_type": "execute_result"
    }
   ],
   "source": [
    "df"
   ]
  },
  {
   "cell_type": "markdown",
   "id": "7670933e",
   "metadata": {},
   "source": [
    "## read_csv()"
   ]
  },
  {
   "cell_type": "code",
   "execution_count": null,
   "id": "1cc708b0",
   "metadata": {},
   "outputs": [],
   "source": [
    "## lendo um arquivo csv\n",
    "\n",
    "df = pd.read_csv('/content/winequality-white.csv',sep=';')\n",
    "df.head()"
   ]
  },
  {
   "cell_type": "code",
   "execution_count": null,
   "id": "91291037",
   "metadata": {},
   "outputs": [],
   "source": [
    "df.shape"
   ]
  },
  {
   "cell_type": "code",
   "execution_count": null,
   "id": "6d690a85",
   "metadata": {},
   "outputs": [],
   "source": [
    "type(df)"
   ]
  },
  {
   "cell_type": "code",
   "execution_count": null,
   "id": "e8d44c5d",
   "metadata": {},
   "outputs": [],
   "source": [
    "## lendo um arquivo csv com chunks\n",
    "\n",
    "ls_quality = []\n",
    "ls_alcohol = []\n",
    "\n",
    "df_chunk = pd.read_csv('/content/winequality-white.csv',sep=';',chunksize=100)\n",
    "type(df_chunk)"
   ]
  },
  {
   "cell_type": "code",
   "execution_count": null,
   "id": "0b98bf58",
   "metadata": {},
   "outputs": [],
   "source": [
    "for chunk in df_chunk:\n",
    "    ls_quality.append(chunk.quality.values)\n",
    "    ls_alcohol.append(chunk.alcohol.values)"
   ]
  },
  {
   "cell_type": "code",
   "execution_count": null,
   "id": "be56c647",
   "metadata": {},
   "outputs": [],
   "source": [
    "boas_qualidades = []\n",
    "\n",
    "x = pd.read_csv('winequality-white.csv',sep=';',chunksize=100)\n",
    "\n",
    "for a in x:\n",
    "    for value in a['quality']:\n",
    "        if value > 5:\n",
    "            boas_qualidades.append(value)"
   ]
  },
  {
   "cell_type": "code",
   "execution_count": null,
   "id": "22b1d4ea",
   "metadata": {},
   "outputs": [],
   "source": [
    "len(boas_qualidades)"
   ]
  },
  {
   "cell_type": "markdown",
   "id": "7049e670",
   "metadata": {},
   "source": [
    "## head, tail, info, shape"
   ]
  },
  {
   "cell_type": "code",
   "execution_count": null,
   "id": "4b26cd75",
   "metadata": {},
   "outputs": [],
   "source": [
    "df.head()"
   ]
  },
  {
   "cell_type": "code",
   "execution_count": null,
   "id": "0a112ba5",
   "metadata": {},
   "outputs": [],
   "source": [
    "df.tail()"
   ]
  },
  {
   "cell_type": "code",
   "execution_count": null,
   "id": "6d884a00",
   "metadata": {},
   "outputs": [],
   "source": [
    "df.shape"
   ]
  },
  {
   "cell_type": "code",
   "execution_count": null,
   "id": "4e93edfd",
   "metadata": {},
   "outputs": [],
   "source": [
    "df.info()"
   ]
  },
  {
   "cell_type": "markdown",
   "id": "349fd4b1",
   "metadata": {},
   "source": [
    "## indexação / fatiamento"
   ]
  },
  {
   "cell_type": "code",
   "execution_count": null,
   "id": "2d138604",
   "metadata": {},
   "outputs": [],
   "source": []
  }
 ],
 "metadata": {
  "kernelspec": {
   "display_name": "Python 3",
   "language": "python",
   "name": "python3"
  },
  "language_info": {
   "codemirror_mode": {
    "name": "ipython",
    "version": 3
   },
   "file_extension": ".py",
   "mimetype": "text/x-python",
   "name": "python",
   "nbconvert_exporter": "python",
   "pygments_lexer": "ipython3",
   "version": "3.8.5"
  }
 },
 "nbformat": 4,
 "nbformat_minor": 5
}

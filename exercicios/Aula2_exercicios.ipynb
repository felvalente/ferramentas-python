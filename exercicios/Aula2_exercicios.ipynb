{
 "cells": [
  {
   "cell_type": "markdown",
   "id": "8264b715",
   "metadata": {},
   "source": [
    "# Exercícios - Aula 02\n",
    "___\n",
    "\n",
    "1. Crie uma lista 'a_list' com os seguintes valores: 1, hello, [1,2,3] e True.\n",
    "2. Ache o valor em 'a_list' que esteja no índice -1.\n",
    "3. Encontre os valores em 'a_list' que estejam nos indices 1,2 e 3.\n",
    "4. Junte as seguinte listas a=[1,2,3,4,5] e b=[11,12,13,14,15]\n",
    "5. Crie uma lista de listas 'list_list' que tenha os valores de 'a_list', 'a' e 'b'\n",
    "6. Qual o tamanho de 'list_list'?\n",
    "7. Adicione o valor 125 ao final de 'list_list'.\n",
    "8. Remova a lista [1,2,3] de 'list_list' e guarde esse valor numa variável 'list_a'.\n",
    "9. Qual é o primeiro valor do segundo valor de [[1,3,5,7],[2,4,6,8,10]]?\n",
    "10. Crie a tupla 'gnr' com os seguintes valores: rock, metal, sertanejo, pop, lo-fi e chillwave, nessa ordem.\n",
    "11. Qual o terceiro valor da tupla 'gnr'?\n",
    "12. Qual o índice de lofi?\n",
    "13. Crie uma tupla de tuplas com as seguintes tuplas (15,30), (20,40) e (25,50). Como acessar o valor 40?\n",
    "14. Acesse a tupla 'gnr' a cada dois valores, qual gêneros musicais aparecem?\n",
    "16. Crie o dicionário 'mcu' com os seguintes dados, 'Homem de Ferro':2008, 'Homem de Ferro 2':2010, 'Homem de ferro 3':2013, 'Avengers: Endgame':2019.\n",
    "\n",
    "    a - No dicionário 'mcu' quais são os valores?\n",
    "\n",
    "    b - No dicińario 'mcu' quais são as chaves?\n",
    "\n",
    "    c - Adicione ao dicionário 'mcu' os seguintes filmes: 'Avengers Infinity War':2018, 'Avengers Age of Ultron':2015.\n",
    "\n",
    "    d - Delete o filme 'Homem de Ferro 3' do dicionário 'mcu'\n",
    "\n",
    "    e - Limpe o dicionário 'mcu'\n",
    "\n",
    "17. Popule o dicionário vazio 'mcu' com as informações abaixo:\n",
    "\n",
    "'homem de ferro':{'filmes':3,'ator principal':'Robert Downey Jr.'},'Cpt.América':{'filmes':3,'ator principal':'Chris Evans'}\n",
    "\n",
    "18. Acesse somente a quantidade de filmes de cada uma das chaves do dicionário MCU.\n",
    "\n",
    "19. Quais são as chaves do dicionário de dicionários 'mcu'?\n",
    "\n",
    "20. Qual o tamanho do dicionário de dicionários 'mcu'?"
   ]
  }
 ],
 "metadata": {
  "kernelspec": {
   "display_name": "Python 3",
   "language": "python",
   "name": "python3"
  },
  "language_info": {
   "codemirror_mode": {
    "name": "ipython",
    "version": 3
   },
   "file_extension": ".py",
   "mimetype": "text/x-python",
   "name": "python",
   "nbconvert_exporter": "python",
   "pygments_lexer": "ipython3",
   "version": "3.8.5"
  }
 },
 "nbformat": 4,
 "nbformat_minor": 5
}

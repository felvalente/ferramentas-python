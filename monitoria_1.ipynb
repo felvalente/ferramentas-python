{
 "cells": [
  {
   "cell_type": "code",
   "execution_count": 6,
   "id": "ce295c9c",
   "metadata": {},
   "outputs": [],
   "source": [
    "x = 2\n",
    "y = 'nasser'\n",
    "z = 255"
   ]
  },
  {
   "cell_type": "code",
   "execution_count": 7,
   "id": "f4d7b7e1",
   "metadata": {},
   "outputs": [
    {
     "name": "stdout",
     "output_type": "stream",
     "text": [
      "Resultado 2\n"
     ]
    }
   ],
   "source": [
    "if x > 5:\n",
    "    \n",
    "    if z % 2 == 0:\n",
    "        print('Resultado 1')\n",
    "    else:\n",
    "        print('Resultado 3')\n",
    "    \n",
    "else:\n",
    "    \n",
    "    if y[0] == 'n':\n",
    "        print('Resultado 2')\n",
    "    else:\n",
    "        print('Sem Resultado')"
   ]
  },
  {
   "cell_type": "code",
   "execution_count": 16,
   "id": "0b65215e",
   "metadata": {},
   "outputs": [],
   "source": [
    "x = 4"
   ]
  },
  {
   "cell_type": "code",
   "execution_count": 17,
   "id": "2a9157d1",
   "metadata": {},
   "outputs": [
    {
     "name": "stdout",
     "output_type": "stream",
     "text": [
      "nao achei\n"
     ]
    }
   ],
   "source": [
    "## elif\n",
    "\n",
    "if x > 5:\n",
    "    print('a')\n",
    "elif x < 2:\n",
    "    print('b')\n",
    "else:\n",
    "    print('nao achei')"
   ]
  },
  {
   "cell_type": "code",
   "execution_count": 18,
   "id": "486c4932",
   "metadata": {},
   "outputs": [
    {
     "name": "stdout",
     "output_type": "stream",
     "text": [
      "liberado\n"
     ]
    }
   ],
   "source": [
    "## elif\n",
    "\n",
    "z = 0.07\n",
    "\n",
    "if z >= 0.44:\n",
    "    print('crime')\n",
    "elif z > 0.08 and z < 0.44:\n",
    "    print('processo adm')\n",
    "else:\n",
    "    print('liberado') "
   ]
  },
  {
   "cell_type": "code",
   "execution_count": 20,
   "id": "950f2389",
   "metadata": {},
   "outputs": [
    {
     "name": "stdout",
     "output_type": "stream",
     "text": [
      "Resultado 1\n"
     ]
    }
   ],
   "source": [
    "x = 'bacon' \n",
    "y = [1,2,3,4,5,6,7,8,9,10,'a','b','c','d','e','f','g','h'] \n",
    "z = 2\n",
    "\n",
    "if (x[0] == 'b'): \n",
    "    \n",
    "    if len(y) >= 15: \n",
    "        \n",
    "        print('Resultado 1') \n",
    "            \n",
    "    else: \n",
    "        \n",
    "        if z % 2 == 0:\n",
    "            print('Resultado 1')\n",
    "        else:\n",
    "            print('Resultado 2')\n",
    "        \n",
    "\n",
    "elif (x[1] == 'a'): \n",
    "    print('Resultado 3') \n",
    "\n",
    "else: \n",
    "    print('Resultado 2*') "
   ]
  },
  {
   "cell_type": "code",
   "execution_count": 30,
   "id": "1081c015",
   "metadata": {},
   "outputs": [
    {
     "name": "stdin",
     "output_type": "stream",
     "text": [
      " 5 10\n"
     ]
    }
   ],
   "source": [
    "x = input()"
   ]
  },
  {
   "cell_type": "code",
   "execution_count": 33,
   "id": "08ac0544",
   "metadata": {},
   "outputs": [
    {
     "data": {
      "text/plain": [
       "['5', '10']"
      ]
     },
     "execution_count": 33,
     "metadata": {},
     "output_type": "execute_result"
    }
   ],
   "source": [
    "x.split()"
   ]
  },
  {
   "cell_type": "code",
   "execution_count": 34,
   "id": "8b601007",
   "metadata": {},
   "outputs": [],
   "source": [
    "a,b = [int(valor) for valor in x.split()]"
   ]
  },
  {
   "cell_type": "code",
   "execution_count": 35,
   "id": "1bc7a095",
   "metadata": {},
   "outputs": [
    {
     "data": {
      "text/plain": [
       "5"
      ]
     },
     "execution_count": 35,
     "metadata": {},
     "output_type": "execute_result"
    }
   ],
   "source": [
    "a"
   ]
  },
  {
   "cell_type": "code",
   "execution_count": 36,
   "id": "a736f52f",
   "metadata": {},
   "outputs": [
    {
     "data": {
      "text/plain": [
       "10"
      ]
     },
     "execution_count": 36,
     "metadata": {},
     "output_type": "execute_result"
    }
   ],
   "source": [
    "b"
   ]
  },
  {
   "cell_type": "code",
   "execution_count": 45,
   "id": "dea66ae0",
   "metadata": {},
   "outputs": [],
   "source": [
    "semestre = 120\n",
    "aluno = 55"
   ]
  },
  {
   "cell_type": "code",
   "execution_count": 46,
   "id": "d282a632",
   "metadata": {},
   "outputs": [],
   "source": [
    "pres = semestre - aluno"
   ]
  },
  {
   "cell_type": "code",
   "execution_count": 48,
   "id": "56bd936f",
   "metadata": {},
   "outputs": [
    {
     "data": {
      "text/plain": [
       "65"
      ]
     },
     "execution_count": 48,
     "metadata": {},
     "output_type": "execute_result"
    }
   ],
   "source": [
    "pres"
   ]
  },
  {
   "cell_type": "code",
   "execution_count": 50,
   "id": "7cbd8ce5",
   "metadata": {},
   "outputs": [
    {
     "data": {
      "text/plain": [
       "True"
      ]
     },
     "execution_count": 50,
     "metadata": {},
     "output_type": "execute_result"
    }
   ],
   "source": [
    "65 >= 0.75"
   ]
  },
  {
   "cell_type": "code",
   "execution_count": null,
   "id": "f39b156d",
   "metadata": {},
   "outputs": [],
   "source": []
  },
  {
   "cell_type": "code",
   "execution_count": 51,
   "id": "8d7afe7c",
   "metadata": {},
   "outputs": [
    {
     "name": "stdout",
     "output_type": "stream",
     "text": [
      "Aluno Reprovado!\n"
     ]
    }
   ],
   "source": [
    "if pres >= (75/100)*semestre: \n",
    "    print(\"Aluno Aprovado!\") \n",
    "else: \n",
    "    print(\"Aluno Reprovado!\") "
   ]
  },
  {
   "cell_type": "code",
   "execution_count": 75,
   "id": "8ed424b8",
   "metadata": {},
   "outputs": [],
   "source": [
    "media = 5\n",
    "\n",
    "def func1(a,b):\n",
    "    \n",
    "    global media\n",
    "    \n",
    "    resultado = a*b / media\n",
    "    \n",
    "    return resultado"
   ]
  },
  {
   "cell_type": "code",
   "execution_count": 76,
   "id": "273df7f1",
   "metadata": {},
   "outputs": [],
   "source": [
    "x = func1(12,2)"
   ]
  },
  {
   "cell_type": "code",
   "execution_count": 79,
   "id": "e681101e",
   "metadata": {},
   "outputs": [
    {
     "data": {
      "text/plain": [
       "True"
      ]
     },
     "execution_count": 79,
     "metadata": {},
     "output_type": "execute_result"
    }
   ],
   "source": [
    "x == 24/5"
   ]
  },
  {
   "cell_type": "code",
   "execution_count": 84,
   "id": "491d8f3d",
   "metadata": {},
   "outputs": [
    {
     "data": {
      "text/plain": [
       "6"
      ]
     },
     "execution_count": 84,
     "metadata": {},
     "output_type": "execute_result"
    }
   ],
   "source": [
    "a = [1,2,3] \n",
    "\n",
    "a.extend((\"a\",\"b\",\"c\")) \n",
    "\n",
    "len(a)"
   ]
  },
  {
   "cell_type": "code",
   "execution_count": 85,
   "id": "b7fc69fe",
   "metadata": {},
   "outputs": [
    {
     "data": {
      "text/plain": [
       "4"
      ]
     },
     "execution_count": 85,
     "metadata": {},
     "output_type": "execute_result"
    }
   ],
   "source": [
    "a = [1,2,3] \n",
    "\n",
    "a.append((\"a\",\"b\",\"c\")) \n",
    "\n",
    "len(a)"
   ]
  },
  {
   "cell_type": "code",
   "execution_count": 86,
   "id": "e6471acd",
   "metadata": {},
   "outputs": [
    {
     "data": {
      "text/plain": [
       "[1, 2, 3, ('a', 'b', 'c')]"
      ]
     },
     "execution_count": 86,
     "metadata": {},
     "output_type": "execute_result"
    }
   ],
   "source": [
    "a"
   ]
  },
  {
   "cell_type": "code",
   "execution_count": 93,
   "id": "5d77a285",
   "metadata": {},
   "outputs": [],
   "source": [
    "a = 10\n",
    "b = 15\n",
    "\n",
    "a = b = 15"
   ]
  },
  {
   "cell_type": "code",
   "execution_count": 95,
   "id": "f3a82d28",
   "metadata": {},
   "outputs": [
    {
     "name": "stdout",
     "output_type": "stream",
     "text": [
      "15\n"
     ]
    }
   ],
   "source": [
    "print(a)"
   ]
  },
  {
   "cell_type": "code",
   "execution_count": 96,
   "id": "77c36174",
   "metadata": {},
   "outputs": [],
   "source": [
    "x = 'bacon'\n",
    "y = [1,2,3,34,4]\n",
    "z = 15"
   ]
  },
  {
   "cell_type": "code",
   "execution_count": 97,
   "id": "8c3cf5d3",
   "metadata": {},
   "outputs": [],
   "source": [
    "gnr = ('rock', 'metal', 'sertanejo', 'pop', 'lo-fi','chillwave')"
   ]
  },
  {
   "cell_type": "code",
   "execution_count": 98,
   "id": "e3b60f0f",
   "metadata": {},
   "outputs": [
    {
     "data": {
      "text/plain": [
       "4"
      ]
     },
     "execution_count": 98,
     "metadata": {},
     "output_type": "execute_result"
    }
   ],
   "source": [
    "gnr.index('lo-fi')"
   ]
  },
  {
   "cell_type": "code",
   "execution_count": 102,
   "id": "0c9e57db",
   "metadata": {},
   "outputs": [
    {
     "data": {
      "text/plain": [
       "('metal', 'sertanejo')"
      ]
     },
     "execution_count": 102,
     "metadata": {},
     "output_type": "execute_result"
    }
   ],
   "source": [
    "gnr[1:3]"
   ]
  },
  {
   "cell_type": "code",
   "execution_count": 108,
   "id": "9297ae9e",
   "metadata": {},
   "outputs": [
    {
     "name": "stdout",
     "output_type": "stream",
     "text": [
      "nao bissexto\n"
     ]
    }
   ],
   "source": [
    "ano_corrente = 700\n",
    "\n",
    "if ano_corrente % 4 == 0 and ano_corrente % 100 == 0 and ano_corrente % 400 == 0:\n",
    "    print('Ano Bissexto!')\n",
    "else:\n",
    "    print('nao bissexto')"
   ]
  },
  {
   "cell_type": "code",
   "execution_count": 112,
   "id": "d2764c90",
   "metadata": {},
   "outputs": [],
   "source": [
    "saida = 25\n",
    "teste = 25.1"
   ]
  },
  {
   "cell_type": "code",
   "execution_count": 117,
   "id": "c337adcd",
   "metadata": {},
   "outputs": [],
   "source": [
    "gnr = ('rock', 'metal', 'sertanejo', 'pop', 'lo-fi','chillwave')"
   ]
  },
  {
   "cell_type": "code",
   "execution_count": 122,
   "id": "6f0c3387",
   "metadata": {},
   "outputs": [
    {
     "data": {
      "text/plain": [
       "('chillwave', 'lo-fi', 'pop', 'sertanejo', 'metal', 'rock')"
      ]
     },
     "execution_count": 122,
     "metadata": {},
     "output_type": "execute_result"
    }
   ],
   "source": [
    "gnr[::-1]"
   ]
  },
  {
   "cell_type": "code",
   "execution_count": 126,
   "id": "7064bde5",
   "metadata": {},
   "outputs": [
    {
     "data": {
      "text/plain": [
       "('chillwave', 'lo-fi', 'pop', 'sertanejo', 'metal', 'rock')"
      ]
     },
     "execution_count": 126,
     "metadata": {},
     "output_type": "execute_result"
    }
   ],
   "source": [
    "gnr[::-1]"
   ]
  },
  {
   "cell_type": "code",
   "execution_count": 129,
   "id": "721ea8ab",
   "metadata": {},
   "outputs": [
    {
     "data": {
      "text/plain": [
       "['cpf', 'cpf', 'cpf']"
      ]
     },
     "execution_count": 129,
     "metadata": {},
     "output_type": "execute_result"
    }
   ],
   "source": [
    "ls = ['cpf','rg','cpf','rg','cpf','rg']\n",
    "\n",
    "ls[::2]"
   ]
  },
  {
   "cell_type": "code",
   "execution_count": null,
   "id": "950c4d36",
   "metadata": {},
   "outputs": [],
   "source": [
    "gnr.index()"
   ]
  },
  {
   "cell_type": "code",
   "execution_count": 133,
   "id": "9d2482fa",
   "metadata": {},
   "outputs": [
    {
     "ename": "TypeError",
     "evalue": "index expected at least 1 argument, got 0",
     "output_type": "error",
     "traceback": [
      "\u001b[0;31m---------------------------------------------------------------------------\u001b[0m",
      "\u001b[0;31mTypeError\u001b[0m                                 Traceback (most recent call last)",
      "\u001b[0;32m<ipython-input-133-e34ff290e087>\u001b[0m in \u001b[0;36m<module>\u001b[0;34m\u001b[0m\n\u001b[0;32m----> 1\u001b[0;31m \u001b[0mhelp\u001b[0m\u001b[0;34m(\u001b[0m\u001b[0mgnr\u001b[0m\u001b[0;34m.\u001b[0m\u001b[0mindex\u001b[0m\u001b[0;34m(\u001b[0m\u001b[0;34m)\u001b[0m\u001b[0;34m)\u001b[0m\u001b[0;34m\u001b[0m\u001b[0;34m\u001b[0m\u001b[0m\n\u001b[0m",
      "\u001b[0;31mTypeError\u001b[0m: index expected at least 1 argument, got 0"
     ]
    }
   ],
   "source": [
    "gnr.index()"
   ]
  },
  {
   "cell_type": "code",
   "execution_count": 140,
   "id": "6f258694",
   "metadata": {},
   "outputs": [],
   "source": [
    "dc = {'a':[1,2,3],\n",
    "      'b':[1,2,3]}"
   ]
  },
  {
   "cell_type": "code",
   "execution_count": 142,
   "id": "d5fb404c",
   "metadata": {},
   "outputs": [
    {
     "data": {
      "text/plain": [
       "[1, 2, 3]"
      ]
     },
     "execution_count": 142,
     "metadata": {},
     "output_type": "execute_result"
    }
   ],
   "source": [
    "dc.pop('b')"
   ]
  },
  {
   "cell_type": "code",
   "execution_count": 144,
   "id": "27a37a94",
   "metadata": {},
   "outputs": [],
   "source": [
    "del dc['a']"
   ]
  },
  {
   "cell_type": "code",
   "execution_count": 145,
   "id": "fcc47d01",
   "metadata": {},
   "outputs": [
    {
     "data": {
      "text/plain": [
       "{}"
      ]
     },
     "execution_count": 145,
     "metadata": {},
     "output_type": "execute_result"
    }
   ],
   "source": [
    "dc"
   ]
  },
  {
   "cell_type": "code",
   "execution_count": 149,
   "id": "d3cf5da3",
   "metadata": {},
   "outputs": [],
   "source": [
    "mcu = {\n",
    "    'homem de ferro':{'filmes':3,'ator principal':'Robert Downey Jr.'},\n",
    "    'Cpt.América':{'filmes':4,'ator principal':'Chris Evans'}}"
   ]
  },
  {
   "cell_type": "code",
   "execution_count": 150,
   "id": "498970ea",
   "metadata": {},
   "outputs": [
    {
     "name": "stdout",
     "output_type": "stream",
     "text": [
      "3\n",
      "4\n"
     ]
    }
   ],
   "source": [
    "for filme in mcu:\n",
    "    print(mcu[filme]['filmes'])"
   ]
  },
  {
   "cell_type": "code",
   "execution_count": 156,
   "id": "0ecaef72",
   "metadata": {},
   "outputs": [
    {
     "data": {
      "text/plain": [
       "[3, 4]"
      ]
     },
     "execution_count": 156,
     "metadata": {},
     "output_type": "execute_result"
    }
   ],
   "source": [
    "[x[1]['filmes'] for x in mcu.items()]"
   ]
  },
  {
   "cell_type": "code",
   "execution_count": 155,
   "id": "489f3f65",
   "metadata": {},
   "outputs": [
    {
     "data": {
      "text/plain": [
       "dict_items([('homem de ferro', {'filmes': 3, 'ator principal': 'Robert Downey Jr.'}), ('Cpt.América', {'filmes': 4, 'ator principal': 'Chris Evans'})])"
      ]
     },
     "execution_count": 155,
     "metadata": {},
     "output_type": "execute_result"
    }
   ],
   "source": [
    "mcu.items()"
   ]
  },
  {
   "cell_type": "code",
   "execution_count": null,
   "id": "4bbdc875",
   "metadata": {},
   "outputs": [],
   "source": []
  },
  {
   "cell_type": "code",
   "execution_count": null,
   "id": "cb57dced",
   "metadata": {},
   "outputs": [],
   "source": []
  },
  {
   "cell_type": "code",
   "execution_count": null,
   "id": "d6ed15d6",
   "metadata": {},
   "outputs": [],
   "source": []
  },
  {
   "cell_type": "code",
   "execution_count": 153,
   "id": "4fed1166",
   "metadata": {},
   "outputs": [
    {
     "data": {
      "text/plain": [
       "dict_items([('homem de ferro', {'filmes': 3, 'ator principal': 'Robert Downey Jr.'}), ('Cpt.América', {'filmes': 4, 'ator principal': 'Chris Evans'})])"
      ]
     },
     "execution_count": 153,
     "metadata": {},
     "output_type": "execute_result"
    }
   ],
   "source": [
    "mcu.items()"
   ]
  },
  {
   "cell_type": "code",
   "execution_count": null,
   "id": "b8f499d8",
   "metadata": {},
   "outputs": [],
   "source": []
  },
  {
   "cell_type": "code",
   "execution_count": null,
   "id": "42098c8a",
   "metadata": {},
   "outputs": [],
   "source": []
  },
  {
   "cell_type": "code",
   "execution_count": null,
   "id": "bb1f5d33",
   "metadata": {},
   "outputs": [],
   "source": []
  },
  {
   "cell_type": "code",
   "execution_count": 4,
   "id": "51298d5e",
   "metadata": {},
   "outputs": [
    {
     "name": "stdout",
     "output_type": "stream",
     "text": [
      "abc\n"
     ]
    }
   ],
   "source": [
    "if x > 5:\n",
    "    print('abc')\n",
    "else:\n",
    "    print('cde')\n",
    "    \n",
    "    \n",
    "\n",
    "if x < 5:\n",
    "    print('cde')"
   ]
  },
  {
   "cell_type": "code",
   "execution_count": null,
   "id": "e66ec13d",
   "metadata": {},
   "outputs": [],
   "source": []
  }
 ],
 "metadata": {
  "kernelspec": {
   "display_name": "Python 3",
   "language": "python",
   "name": "python3"
  },
  "language_info": {
   "codemirror_mode": {
    "name": "ipython",
    "version": 3
   },
   "file_extension": ".py",
   "mimetype": "text/x-python",
   "name": "python",
   "nbconvert_exporter": "python",
   "pygments_lexer": "ipython3",
   "version": "3.8.5"
  }
 },
 "nbformat": 4,
 "nbformat_minor": 5
}
